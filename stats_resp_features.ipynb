{
 "cells": [
  {
   "cell_type": "code",
   "execution_count": 1,
   "id": "1d84c85a-aefa-4ef8-ac5c-cdf4ebd170fe",
   "metadata": {
    "tags": []
   },
   "outputs": [],
   "source": [
    "import ghibtools as gh\n",
    "import matplotlib.pyplot as plt\n",
    "import pandas as pd\n",
    "import numpy as np\n",
    "import seaborn as sns\n",
    "import pingouin\n",
    "from compute_global_dataframes import resp_features_concat_job\n",
    "from params import *\n",
    "import physio\n",
    "from configuration import base_folder\n",
    "import os\n",
    "from bibliotheque import df_baseline"
   ]
  },
  {
   "cell_type": "code",
   "execution_count": 2,
   "id": "1b415fca-725b-4b04-8cde-209b0a6d86ed",
   "metadata": {
    "tags": []
   },
   "outputs": [],
   "source": [
    "resp =resp_features_concat_job.get(global_key).to_dataframe()"
   ]
  },
  {
   "cell_type": "code",
   "execution_count": 3,
   "id": "82d1afce-fe0d-4a1c-be09-059344121a9a",
   "metadata": {
    "tags": []
   },
   "outputs": [],
   "source": [
    "metrics = ['cycle_duration','inspi_duration','expi_duration','cycle_ratio','inspi_volume','expi_volume','total_volume', 'inspi_amplitude', 'expi_amplitude']"
   ]
  },
  {
   "cell_type": "code",
   "execution_count": 4,
   "id": "2050640a-c34f-48d0-b5ee-4adf25284a8d",
   "metadata": {
    "tags": []
   },
   "outputs": [],
   "source": [
    "clean_labels = {'cycle_duration':'Cycle Duration',\n",
    "                'inspi_duration':'Inspiration Duration',\n",
    "                'expi_duration':'Expiration Duration',\n",
    "                'cycle_ratio':'Cycle Ratio',\n",
    "                'inspi_volume':'Inspiration Volume',\n",
    "                'expi_volume':'Expiration Volume',\n",
    "                'total_volume':'Total Cycle Volume', \n",
    "                'inspi_amplitude':'Inspiration Amplitude', \n",
    "                'expi_amplitude':'Expiration Amplitude'\n",
    "               }\n",
    "\n",
    "units = {'cycle_duration':'sec',\n",
    "                'inspi_duration':'sec',\n",
    "                'expi_duration':'sec',\n",
    "                'cycle_ratio':None,\n",
    "                'inspi_volume':'AU',\n",
    "                'expi_volume':'AU',\n",
    "                'total_volume':'AU', \n",
    "                'inspi_amplitude':'AU', \n",
    "                'expi_amplitude':'AU'\n",
    "               }"
   ]
  },
  {
   "cell_type": "code",
   "execution_count": 5,
   "id": "d9f133e3-e061-4ff0-ae2a-5edefc158361",
   "metadata": {
    "tags": []
   },
   "outputs": [],
   "source": [
    "indexes = ['participant','session']"
   ]
  },
  {
   "cell_type": "code",
   "execution_count": 6,
   "id": "fff4be85-da6d-49ab-8ef5-5b5a8525cf41",
   "metadata": {
    "tags": []
   },
   "outputs": [],
   "source": [
    "all_cols = indexes + metrics"
   ]
  },
  {
   "cell_type": "code",
   "execution_count": 7,
   "id": "24082044-36b5-4376-afbe-c6d3f9816c8e",
   "metadata": {
    "tags": []
   },
   "outputs": [
    {
     "ename": "ValueError",
     "evalue": "operands could not be broadcast together with shapes (3516,9) (3892,9) ",
     "output_type": "error",
     "traceback": [
      "\u001b[0;31m---------------------------------------------------------------------------\u001b[0m",
      "\u001b[0;31mValueError\u001b[0m                                Traceback (most recent call last)",
      "Cell \u001b[0;32mIn [7], line 1\u001b[0m\n\u001b[0;32m----> 1\u001b[0m resp_baselined \u001b[38;5;241m=\u001b[39m \u001b[43mdf_baseline\u001b[49m\u001b[43m(\u001b[49m\u001b[43mresp\u001b[49m\u001b[43m[\u001b[49m\u001b[43mall_cols\u001b[49m\u001b[43m]\u001b[49m\u001b[43m,\u001b[49m\u001b[43m \u001b[49m\u001b[43mindexes\u001b[49m\u001b[43m,\u001b[49m\u001b[43m \u001b[49m\u001b[43mmetrics\u001b[49m\u001b[43m)\u001b[49m\n",
      "File \u001b[0;32m/mnt/autofs/cmo/Etudiants/NBuonviso2023_Emosens3_OdeurSon_Valentin_Matthias/Scripts/bibliotheque.py:58\u001b[0m, in \u001b[0;36mdf_baseline\u001b[0;34m(df, indexes, metrics, mode)\u001b[0m\n\u001b[1;32m     55\u001b[0m baseline \u001b[38;5;241m=\u001b[39m df[df[\u001b[38;5;124m'\u001b[39m\u001b[38;5;124msession\u001b[39m\u001b[38;5;124m'\u001b[39m] \u001b[38;5;241m==\u001b[39m \u001b[38;5;124m'\u001b[39m\u001b[38;5;124mbaseline\u001b[39m\u001b[38;5;124m'\u001b[39m]\u001b[38;5;241m.\u001b[39mset_index(indexes)\n\u001b[1;32m     57\u001b[0m \u001b[38;5;28;01mif\u001b[39;00m mode \u001b[38;5;241m==\u001b[39m \u001b[38;5;124m'\u001b[39m\u001b[38;5;124mratio\u001b[39m\u001b[38;5;124m'\u001b[39m:\n\u001b[0;32m---> 58\u001b[0m     data_odor \u001b[38;5;241m=\u001b[39m \u001b[43modor\u001b[49m\u001b[43m[\u001b[49m\u001b[43mmetrics\u001b[49m\u001b[43m]\u001b[49m\u001b[38;5;241;43m.\u001b[39;49m\u001b[43mvalues\u001b[49m\u001b[43m \u001b[49m\u001b[38;5;241;43m/\u001b[39;49m\u001b[43m \u001b[49m\u001b[43mbaseline\u001b[49m\u001b[43m[\u001b[49m\u001b[43mmetrics\u001b[49m\u001b[43m]\u001b[49m\u001b[38;5;241;43m.\u001b[39;49m\u001b[43mvalues\u001b[49m\n\u001b[1;32m     59\u001b[0m     data_music \u001b[38;5;241m=\u001b[39m music[metrics]\u001b[38;5;241m.\u001b[39mvalues \u001b[38;5;241m/\u001b[39m baseline[metrics]\u001b[38;5;241m.\u001b[39mvalues\n\u001b[1;32m     60\u001b[0m \u001b[38;5;28;01melif\u001b[39;00m mode \u001b[38;5;241m==\u001b[39m \u001b[38;5;124m'\u001b[39m\u001b[38;5;124msubstract\u001b[39m\u001b[38;5;124m'\u001b[39m:\n",
      "\u001b[0;31mValueError\u001b[0m: operands could not be broadcast together with shapes (3516,9) (3892,9) "
     ]
    }
   ],
   "source": [
    "resp_baselined = df_baseline(resp[all_cols], indexes, metrics)"
   ]
  },
  {
   "cell_type": "code",
   "execution_count": null,
   "id": "4e4731c3-9750-4fe7-8c34-28179351fe61",
   "metadata": {
    "tags": []
   },
   "outputs": [],
   "source": [
    "fig, ax = plt.subplots()\n",
    "sns.heatmap(resp[metrics].corr('spearman',numeric_only = True), annot = True, vmin=-1, vmax= 1 , cmap = 'seismic', ax=ax)\n",
    "ax.set_title('Correlation matrix between respiration features')\n",
    "file = base_folder / 'Figures' / 'resp_features' / 'corr_matrix_resp_features.png'\n",
    "fig.savefig(file, bbox_inches = 'tight')\n",
    "plt.show()"
   ]
  },
  {
   "cell_type": "code",
   "execution_count": null,
   "id": "88b0ee1c-6d0e-4c86-adc9-fd4076d13ddc",
   "metadata": {
    "tags": []
   },
   "outputs": [],
   "source": [
    "fig, axs = plt.subplots(ncols = 3, figsize = (18,5), constrained_layout = True)\n",
    "\n",
    "for c, ses in enumerate(session_keys):\n",
    "    ax = axs[c]\n",
    "    resp_ses = resp[resp['session'] == ses]\n",
    "    sns.heatmap(resp_ses[metrics].corr('spearman',numeric_only = True), annot = True, vmin=-1, vmax= 1 , cmap = 'seismic', ax=ax)\n",
    "    ax.set_title(f'Correlation matrix between respiration features during {ses}')\n",
    "    \n",
    "file = base_folder / 'Figures' / 'resp_features' / 'corr_matrix_resp_features_by_session.png'\n",
    "fig.savefig(file, bbox_inches = 'tight')\n",
    "plt.show()"
   ]
  },
  {
   "cell_type": "code",
   "execution_count": null,
   "id": "a3a55472-14d1-4e83-9bcf-7cf531e0d9d2",
   "metadata": {
    "tags": []
   },
   "outputs": [],
   "source": [
    "nrows = 3\n",
    "ncols = 3\n",
    "plot_metrics = np.array(metrics).reshape(nrows, ncols)\n",
    "\n",
    "for suptitle, df in zip(['Raw respiration features','Respiration features ratio to baseline'],[resp, resp_baselined]):\n",
    "\n",
    "    fig, axs = plt.subplots(nrows, ncols, figsize = (15,15), constrained_layout = True)\n",
    "    fig.suptitle(suptitle, fontsize = 20, y = 1.05)\n",
    "\n",
    "    for r in range(nrows):\n",
    "        for c in range(ncols):\n",
    "            ax = axs[r,c]\n",
    "            \n",
    "            metric = plot_metrics[r,c]\n",
    "            \n",
    "            if suptitle == 'Respiration features ratio to baseline':\n",
    "                outcome_unit = None\n",
    "            else:\n",
    "                outcome_unit = units[metric]\n",
    "            \n",
    "            gh.auto_stats(df = df, \n",
    "                          predictor = 'session', \n",
    "                          outcome = metric, \n",
    "                          design = 'within',\n",
    "                          subject = 'participant', \n",
    "                          ax=ax,\n",
    "                         outcome_clean_label = clean_labels[metric],\n",
    "                         outcome_unit = units[metric],\n",
    "                         strip = False,\n",
    "                         lines = False,\n",
    "                         xtick_info = False)\n",
    "            \n",
    "            if suptitle == 'Respiration features ratio to baseline':\n",
    "                ax.set_ylabel(f'{clean_labels[metric]} ratio to baseline')\n",
    "                \n",
    "    file = base_folder / 'Figures' / 'resp_features' / f'{suptitle}.png'\n",
    "    fig.savefig(file, bbox_inches = 'tight')\n",
    "    plt.show()"
   ]
  },
  {
   "cell_type": "code",
   "execution_count": null,
   "id": "447e0e78-03b6-4946-b286-697afb5f042c",
   "metadata": {},
   "outputs": [],
   "source": []
  }
 ],
 "metadata": {
  "kernelspec": {
   "display_name": "Python 3 (ipykernel)",
   "language": "python",
   "name": "python3"
  },
  "language_info": {
   "codemirror_mode": {
    "name": "ipython",
    "version": 3
   },
   "file_extension": ".py",
   "mimetype": "text/x-python",
   "name": "python",
   "nbconvert_exporter": "python",
   "pygments_lexer": "ipython3",
   "version": "3.10.6"
  }
 },
 "nbformat": 4,
 "nbformat_minor": 5
}
