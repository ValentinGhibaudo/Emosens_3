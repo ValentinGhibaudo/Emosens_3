{
 "cells": [
  {
   "cell_type": "code",
   "execution_count": 1,
   "metadata": {
    "tags": []
   },
   "outputs": [],
   "source": [
    "%load_ext autoreload\n",
    "%autoreload 2"
   ]
  },
  {
   "cell_type": "code",
   "execution_count": 14,
   "metadata": {
    "tags": []
   },
   "outputs": [],
   "source": [
    "import numpy as np\n",
    "import mne\n",
    "import xarray as xr\n",
    "import matplotlib.pyplot as plt\n",
    "from scipy import signal\n",
    "import ghibtools as gh\n",
    "import pandas as pd\n",
    "import seaborn as sns\n",
    "import pingouin as pg\n",
    "import neurokit2 as nk\n",
    "from params import *\n",
    "from bibliotheque import *\n",
    "import physio\n",
    "import time\n",
    "from compute_phase_freq import baseline_power_job, phase_freq_job\n",
    "from preproc import convert_vhdr_job\n",
    "from compute_power_at_resp import power_at_resp_job"
   ]
  },
  {
   "cell_type": "code",
   "execution_count": null,
   "metadata": {},
   "outputs": [],
   "source": []
  }
 ],
 "metadata": {
  "kernelspec": {
   "display_name": "Python 3 (ipykernel)",
   "language": "python",
   "name": "python3"
  },
  "language_info": {
   "codemirror_mode": {
    "name": "ipython",
    "version": 3
   },
   "file_extension": ".py",
   "mimetype": "text/x-python",
   "name": "python",
   "nbconvert_exporter": "python",
   "pygments_lexer": "ipython3",
   "version": "3.10.6"
  },
  "vscode": {
   "interpreter": {
    "hash": "bbd66b686acaecbf29c6a383cfc615f73cdd8d7b66bb29ee6703a7dec36588b6"
   }
  }
 },
 "nbformat": 4,
 "nbformat_minor": 4
}
