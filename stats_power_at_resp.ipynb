{
 "cells": [
  {
   "cell_type": "code",
   "execution_count": null,
   "id": "4ae45f21-ac48-48a0-8de0-6d3d298208d8",
   "metadata": {
    "tags": []
   },
   "outputs": [],
   "source": [
    "%load_ext autoreload\n",
    "%autoreload 2"
   ]
  },
  {
   "cell_type": "code",
   "execution_count": null,
   "id": "a2e0160b-2e17-49c5-af00-4b8f31d844da",
   "metadata": {},
   "outputs": [],
   "source": [
    "import pandas as pd\n",
    "import numpy as np\n",
    "import seaborn as sns\n",
    "import matplotlib.pyplot as plt\n",
    "from params import subject_keys, eeg_chans, run_keys\n",
    "from compute_global_dataframes import power_at_resp_concat_job, oas_concat_job, bmrq_concat_job\n",
    "from bibliotheque import get_pos, init_nan_da, df_baseline, get_df_mask_chan_signif, keep_clean, cluster_stats\n",
    "import mne\n",
    "import os\n",
    "from configuration import base_folder\n",
    "from params import *"
   ]
  },
  {
   "cell_type": "code",
   "execution_count": null,
   "id": "d6eb2c48-0b6d-418b-a409-2d360f80619c",
   "metadata": {
    "tags": []
   },
   "outputs": [],
   "source": [
    "mask_params = dict(markersize=15, markerfacecolor='y')"
   ]
  },
  {
   "cell_type": "code",
   "execution_count": null,
   "id": "05cc5c86-57b4-4b6a-906e-142321667164",
   "metadata": {
    "tags": []
   },
   "outputs": [],
   "source": [
    "indexes = ['participant','session','chan']\n",
    "metrics = ['fmax_resp','max_resp','max_eeg','log_max_eeg']"
   ]
  },
  {
   "cell_type": "code",
   "execution_count": null,
   "id": "9cf8b4d9-5e90-4867-a949-417d576bd6cc",
   "metadata": {},
   "outputs": [],
   "source": [
    "power_at_resp = power_at_resp_concat_job.get(global_key).to_dataframe()\n",
    "power_at_resp['log_max_eeg'] = np.log(power_at_resp['max_eeg'].values)\n",
    "power_at_resp = keep_clean(df_raw = power_at_resp, metrics_to_clean = metrics)"
   ]
  },
  {
   "cell_type": "code",
   "execution_count": null,
   "id": "1f8c2249-0d76-4018-81d4-1ab17086271e",
   "metadata": {
    "tags": []
   },
   "outputs": [],
   "source": [
    "power_at_resp"
   ]
  },
  {
   "cell_type": "code",
   "execution_count": null,
   "id": "e1384929-564b-472d-94ae-5fb4e8df4889",
   "metadata": {
    "tags": []
   },
   "outputs": [],
   "source": [
    "power_at_resp['keep_session'].value_counts()"
   ]
  },
  {
   "cell_type": "code",
   "execution_count": null,
   "id": "0e96b1d9-0aec-4e46-ad5e-eed356384264",
   "metadata": {},
   "outputs": [],
   "source": [
    "sns.heatmap(power_at_resp.corr(numeric_only = True), cmap = 'seismic', vmin = -1 , vmax = 1 , annot = True)"
   ]
  },
  {
   "cell_type": "code",
   "execution_count": null,
   "id": "9f6aff1f-1de0-4f21-a323-2eac3d269e32",
   "metadata": {},
   "outputs": [],
   "source": [
    "power_at_resp"
   ]
  },
  {
   "cell_type": "code",
   "execution_count": null,
   "id": "b628820a-3561-4f3e-b97c-ed9f469b2f07",
   "metadata": {
    "tags": []
   },
   "outputs": [],
   "source": [
    "power_at_resp['max_eeg'].plot.hist(bins = 100)"
   ]
  },
  {
   "cell_type": "code",
   "execution_count": null,
   "id": "e5418984-19d4-4447-8275-8a346f2f8608",
   "metadata": {
    "tags": []
   },
   "outputs": [],
   "source": [
    "power_at_resp_baselined = df_baseline(df = power_at_resp, indexes = indexes, metrics= metrics, mode = 'substract')"
   ]
  },
  {
   "cell_type": "code",
   "execution_count": null,
   "id": "ad6d4297-4291-4d21-ad5b-daaac1c9bc07",
   "metadata": {
    "tags": []
   },
   "outputs": [],
   "source": [
    "power_at_resp_baselined"
   ]
  },
  {
   "cell_type": "code",
   "execution_count": null,
   "id": "0e40bf46-a540-4dc1-9a67-2e34c3bf3a85",
   "metadata": {},
   "outputs": [],
   "source": [
    "fig, ax = plt.subplots(figsize = (15,5))\n",
    "sns.pointplot(data = power_at_resp, x = 'chan', y = 'log_max_eeg', hue = 'session',ax=ax, errorbar = 'se')"
   ]
  },
  {
   "cell_type": "code",
   "execution_count": null,
   "id": "2232de2e-dd4e-412e-983d-9ea14c83f643",
   "metadata": {
    "tags": []
   },
   "outputs": [],
   "source": [
    "fig, ax = plt.subplots(figsize = (15,5))\n",
    "sns.pointplot(data = power_at_resp_baselined, x = 'chan', y = 'log_max_eeg', hue = 'session',ax=ax, errorbar = 'se')"
   ]
  },
  {
   "cell_type": "code",
   "execution_count": null,
   "id": "dca4cd79-c7db-4810-86df-18af122474b3",
   "metadata": {
    "tags": []
   },
   "outputs": [],
   "source": [
    "delta_quantile = 0.\n",
    "\n",
    "colname = 'log_max_eeg'\n",
    "\n",
    "df = power_at_resp_baselined\n",
    "\n",
    "df_mask = get_df_mask_chan_signif(df = df, \n",
    "                                  chans = eeg_chans, \n",
    "                                  predictor = 'session', \n",
    "                                  outcome = 'log_max_eeg', \n",
    "                                  subject = 'participant', \n",
    "                                  multicomp_method = 'bonf', \n",
    "                                  stats_type = 'permutations',\n",
    "                                 diff = 'mean')\n",
    "\n",
    "N = power_at_resp_baselined['participant'].unique().size\n",
    "\n",
    "vmin = np.quantile(df.groupby(['session','chan']).mean(numeric_only = True)[colname].values, delta_quantile)\n",
    "vmax = np.quantile(df.groupby(['session','chan']).mean(numeric_only = True)[colname].values, 1 - delta_quantile)\n",
    "\n",
    "vmin = vmin if abs(vmin) > abs(vmax) else -vmax\n",
    "vmax = vmax if abs(vmin) < abs(vmax) else abs(vmin)\n",
    "    \n",
    "pos = get_pos()\n",
    "\n",
    "fig, axs = plt.subplots(ncols = df['session'].unique().size, figsize = (10,5))\n",
    "fig.suptitle(f'EEG LogPower at respiration frequency, N = {N}', fontsize = 20, y = 1.1)\n",
    "\n",
    "for c, session in enumerate(df['session'].unique()):\n",
    "    ax = axs[c]\n",
    "    topo_data = df[df['session'] == session].groupby('chan').mean(numeric_only = True)[colname].reindex(eeg_chans)\n",
    "    im, cn = mne.viz.plot_topomap(data =topo_data.values , pos = pos, names = eeg_chans, axes = ax, show = False, vlim = (vmin,vmax), mask = df_mask.reindex(eeg_chans)['mask_corr'], mask_params = mask_params)\n",
    "    ax.set_title(f'{session}')\n",
    "\n",
    "ax_x_start = 1\n",
    "ax_x_width = 0.04\n",
    "ax_y_start = 0.1\n",
    "ax_y_height = 0.9\n",
    "cbar_ax = fig.add_axes([ax_x_start, ax_y_start, ax_x_width, ax_y_height])\n",
    "clb = fig.colorbar(im, cax=cbar_ax)\n",
    "clb.ax.set_title('LogPower baseline substracted',fontsize=15)\n",
    "\n",
    "file = base_folder / 'Figures' / 'power_at_resp' / 'log_substracted_to_baseline.png'\n",
    "\n",
    "# fig.savefig(file, bbox_inches = 'tight')"
   ]
  },
  {
   "cell_type": "code",
   "execution_count": null,
   "id": "fb6e975a-1c60-404a-b666-3a45d334cc0d",
   "metadata": {},
   "outputs": [],
   "source": [
    "oas = oas_concat_job.get(global_key).to_dataframe().set_index('participant')\n",
    "bmrq = bmrq_concat_job.get(global_key).to_dataframe().set_index('participant')"
   ]
  },
  {
   "cell_type": "code",
   "execution_count": null,
   "id": "765396de-1d89-45f1-b18c-e3c469838d47",
   "metadata": {
    "tags": []
   },
   "outputs": [],
   "source": [
    "delta_quantile = 0.\n",
    "\n",
    "colname = 'log_max_eeg'\n",
    "\n",
    "for subject in subject_keys:\n",
    "    \n",
    "    bmrq_sub = bmrq.loc[subject, 'BMRQ'].round(3)\n",
    "    oas_sub = oas.loc[subject, 'OAS'].round(3)\n",
    "    \n",
    "    df = power_at_resp_baselined[power_at_resp_baselined['participant'] == subject]\n",
    "    \n",
    "    vmin = np.quantile(df.groupby(['session','chan']).mean(numeric_only = True)[colname].values, delta_quantile)\n",
    "    vmax = np.quantile(df.groupby(['session','chan']).mean(numeric_only = True)[colname].values, 1 - delta_quantile)\n",
    "    \n",
    "    vmin = vmin if abs(vmin) > abs(vmax) else -vmax\n",
    "    vmax = vmax if abs(vmin) < abs(vmax) else abs(vmin)\n",
    "\n",
    "    pos = get_pos()\n",
    "\n",
    "    fig, axs = plt.subplots(ncols = df['session'].unique().size, figsize = (10,5))\n",
    "    fig.suptitle(f'EEG LogPower at respiration frequency, sub = {subject}  \\n OAS : {oas_sub} - BMRQ : {bmrq_sub}', fontsize = 20, y = 1.1)\n",
    "\n",
    "    for c, session in enumerate(df['session'].unique()):\n",
    "        ax = axs[c]\n",
    "        topo_data = df[df['session'] == session].groupby('chan').mean(numeric_only = True)[colname].reindex(eeg_chans)\n",
    "        im, cn = mne.viz.plot_topomap(data =topo_data.values , pos = pos, names = eeg_chans, axes = ax, show = False, vlim = (vmin,vmax))\n",
    "        ax.set_title(f'{session}')\n",
    "\n",
    "    ax_x_start = 1\n",
    "    ax_x_width = 0.04\n",
    "    ax_y_start = 0.1\n",
    "    ax_y_height = 0.9\n",
    "    cbar_ax = fig.add_axes([ax_x_start, ax_y_start, ax_x_width, ax_y_height])\n",
    "    clb = fig.colorbar(im, cax=cbar_ax)\n",
    "    clb.ax.set_title('LogPower baseline substracted',fontsize=15)\n",
    "\n",
    "    file = base_folder / 'Figures' / 'power_at_resp' / 'by_subject' / f'{subject}.png'\n",
    "\n",
    "    fig.savefig(file, bbox_inches = 'tight')\n",
    "    \n",
    "    plt.close()"
   ]
  },
  {
   "cell_type": "markdown",
   "id": "9ded2446-b009-436d-8b7e-0790606af9b6",
   "metadata": {},
   "source": [
    "# STATS VS BASELINE"
   ]
  },
  {
   "cell_type": "code",
   "execution_count": null,
   "id": "246e1208-0157-42d1-ace6-492b0fda4294",
   "metadata": {},
   "outputs": [],
   "source": [
    "delta_quantile = 0.\n",
    "\n",
    "metric = 'max_eeg'\n",
    "\n",
    "df = power_at_resp.copy()\n",
    "\n",
    "dfs_masks = []\n",
    "for cond in ['odor','music']:\n",
    "    df_to_mask = df[df['session'].isin(['baseline',cond])]\n",
    "    df_mask = get_df_mask_chan_signif(df = df_to_mask, \n",
    "                                      chans = eeg_chans, \n",
    "                                      predictor = 'session', \n",
    "                                      outcome = metric, \n",
    "                                      subject = 'participant', \n",
    "                                      multicomp_method = 'bonf', \n",
    "                                      stats_type = 'permutations', \n",
    "                                      diff = 'median')\n",
    "    df_mask['cond'] = cond\n",
    "    dfs_masks.append(df_mask)\n",
    "dfs_masks = pd.concat(dfs_masks)\n",
    "\n",
    "N = power_at_resp_baselined['participant'].unique().size\n",
    "\n",
    "vmin = np.quantile(df.groupby(['session','chan']).median(numeric_only = True)[metric].values, delta_quantile)\n",
    "vmax = np.quantile(df.groupby(['session','chan']).median(numeric_only = True)[metric].values, 1 - delta_quantile)\n",
    "\n",
    "# vmin = vmin if abs(vmin) > abs(vmax) else -vmax\n",
    "# vmax = vmax if abs(vmin) < abs(vmax) else abs(vmin)\n",
    "    \n",
    "pos = get_pos()\n",
    "\n",
    "fig, axs = plt.subplots(ncols = df['session'].unique().size, figsize = (10,5))\n",
    "fig.suptitle(f'EEG Power at respiration frequency, N = {N}', fontsize = 20, y = 1.1)\n",
    "\n",
    "for c, session in enumerate(df['session'].unique()):\n",
    "    ax = axs[c]\n",
    "    df_mask = dfs_masks[dfs_masks['cond'] == session]\n",
    "    topo_data = df[df['session'] == session].groupby('chan').median(numeric_only = True)[metric].reindex(eeg_chans)\n",
    "    if session == 'baseline':\n",
    "        im, cn = mne.viz.plot_topomap(data = topo_data.values , pos = pos, names = eeg_chans, axes = ax, show = False, vlim = (vmin,vmax))\n",
    "    else:\n",
    "        im, cn = mne.viz.plot_topomap(data = topo_data.values , pos = pos, names = eeg_chans, axes = ax, show = False, vlim = (vmin,vmax), mask = df_mask['mask_corr'], mask_params = mask_params, image_interp = 'nearest')\n",
    "    ax.set_title(f'{session}')\n",
    "\n",
    "ax_x_start = 1\n",
    "ax_x_width = 0.04\n",
    "ax_y_start = 0.1\n",
    "ax_y_height = 0.9\n",
    "cbar_ax = fig.add_axes([ax_x_start, ax_y_start, ax_x_width, ax_y_height])\n",
    "clb = fig.colorbar(im, cax=cbar_ax)\n",
    "clb.ax.set_title('Power At Resp (µV²)',fontsize=15)\n",
    "\n",
    "file = base_folder / 'Figures' / 'power_at_resp' / 'raw__power_at_resp_permutations.png'\n",
    "\n",
    "fig.savefig(file, bbox_inches = 'tight')"
   ]
  },
  {
   "cell_type": "code",
   "execution_count": null,
   "id": "770de845-f5aa-47e8-bf45-e52a3fc504b1",
   "metadata": {},
   "outputs": [],
   "source": [
    "import xarray as xr\n",
    "import ghibtools as gh\n",
    "\n",
    "def cluster_stats(x1,x2, chans, verbose = True):\n",
    "    X = x2 - x1\n",
    "    t_obs, clusters, cluster_p_values, H0 = mne.stats.permutation_cluster_1samp_test(X, out_type = 'indices', verbose = False)\n",
    "    \n",
    "    if verbose:\n",
    "        print(clusters, cluster_p_values)\n",
    "\n",
    "    mask_signif_chans = np.full(len(ch_names), False)\n",
    "\n",
    "    chan_inds_signif = []\n",
    "    for cluster, p  in zip(clusters, cluster_p_values):\n",
    "        if p < 0.05:\n",
    "            chan_inds_signif.extend(list(cluster[0]))\n",
    "    mask_signif_chans[chan_inds_signif] = True\n",
    "    return  mask_signif_chans\n",
    "\n",
    "\n",
    "metric = 'max_eeg'\n",
    "\n",
    "ch_names = df['chan'].unique()\n",
    "da = gh.init_da({'session':df['session'].unique(), 'participant':df['participant'].unique(), 'chan':ch_names})\n",
    "for ses in da['session'].values:\n",
    "    for participant in da['participant'].values:\n",
    "        for chan in da['chan'].values:\n",
    "            da.loc[ses,participant,chan] = df.set_index(['session','participant','chan']).loc[(ses,participant,chan),metric]\n",
    "\n",
    "q_diff = 0.05\n",
    "\n",
    "mask_params = dict(markersize=15, markerfacecolor='y')\n",
    "\n",
    "N = df['participant'].unique().size\n",
    "\n",
    "vmin = df.groupby(['session','chan']).median(numeric_only = True)[metric].quantile(q_diff)\n",
    "vmax = df.groupby(['session','chan']).median(numeric_only = True)[metric].quantile(1 - q_diff)\n",
    "\n",
    "fig, axs = plt.subplots(ncols = df['session'].unique().size, figsize = (10,5))\n",
    "fig.suptitle(f'EEG Power at respiration frequency\\nN = {N}', fontsize = 20, y = 1)\n",
    "\n",
    "chans = da['chan'].values\n",
    "\n",
    "for c, session in enumerate(df['session'].unique()):\n",
    "    ax = axs[c]\n",
    "    topo_data = df[df['session'] == session].groupby('chan').median(numeric_only = True)[metric].reindex(chans)\n",
    "    if session == 'baseline':\n",
    "        im, cn = mne.viz.plot_topomap(data = topo_data.values , pos = pos, names = chans, axes = ax, show = False, vlim = (vmin,vmax))\n",
    "    else:\n",
    "        x1 = da.sel(session = 'baseline').values\n",
    "        x2 = da.sel(session = session).values\n",
    "        mask = cluster_stats(x1,x2,chans)\n",
    "        im, cn = mne.viz.plot_topomap(data = topo_data.values , pos = pos, names = chans, axes = ax, show = False, vlim = (vmin,vmax), mask = mask, mask_params = mask_params)\n",
    "    ax.set_title(f'{session}', fontsize = 15)\n",
    "        \n",
    "ax_x_start = 1\n",
    "ax_x_width = 0.04\n",
    "ax_y_start = 0.3\n",
    "ax_y_height = 0.6\n",
    "cbar_ax = fig.add_axes([ax_x_start, ax_y_start, ax_x_width, ax_y_height])\n",
    "clb = fig.colorbar(im, cax=cbar_ax)\n",
    "clb.ax.set_title('Power (µV²)',fontsize=15)\n",
    "\n",
    "fig.savefig(base_folder / 'Figures' / 'power_at_resp' / 'power_at_resp_cluster_stats.png', dpi = 300, bbox_inches = 'tight')\n",
    "\n",
    "plt.show()"
   ]
  },
  {
   "cell_type": "code",
   "execution_count": null,
   "id": "00e91569-feb4-4772-a1dd-875d31c3e0d2",
   "metadata": {},
   "outputs": [],
   "source": []
  }
 ],
 "metadata": {
  "kernelspec": {
   "display_name": "Python 3 (ipykernel)",
   "language": "python",
   "name": "python3"
  },
  "language_info": {
   "codemirror_mode": {
    "name": "ipython",
    "version": 3
   },
   "file_extension": ".py",
   "mimetype": "text/x-python",
   "name": "python",
   "nbconvert_exporter": "python",
   "pygments_lexer": "ipython3",
   "version": "3.10.12"
  }
 },
 "nbformat": 4,
 "nbformat_minor": 5
}
