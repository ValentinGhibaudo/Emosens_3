{
 "cells": [
  {
   "cell_type": "code",
   "execution_count": 1,
   "id": "46468fec-16a2-4b39-ac6d-c444bf4f4dc3",
   "metadata": {
    "tags": []
   },
   "outputs": [],
   "source": [
    "import numpy as np\n",
    "import pandas as pd\n",
    "import seaborn as sns\n",
    "import ghibtools as gh\n",
    "import matplotlib.pyplot as plt"
   ]
  },
  {
   "cell_type": "code",
   "execution_count": 155,
   "id": "5424fcca-a3ad-4545-938b-24c5478c97ae",
   "metadata": {
    "tags": []
   },
   "outputs": [],
   "source": [
    "N = 10 # Nombre de participants dont les données sont simulées sur la base de celles du premier participant acquis\n",
    "\n",
    "valeur_baseline = 60.2 # Valeur mesurée en baseline chez le premier participant\n",
    "valeur_odor = 80.6 # Valeur mesurée en condition odeur chez le premier participant\n",
    "valeur_music = 74.9 # Valeur mesurée en condition musique chez le premier participant\n",
    "\n",
    "sd_estimée_baseline = 5.1 # Valeur calculée en baseline chez le premier participant\n",
    "sd_estimée_odor = 7.5 # Valeur calculée en condition odeur chez le premier participant\n",
    "sd_estimée_music = 6.4 # Valeur calculée en condition musique chez le premier participant"
   ]
  },
  {
   "cell_type": "code",
   "execution_count": 2,
   "id": "9106ce82-94d3-4112-b90a-eda2b83607d4",
   "metadata": {
    "tags": []
   },
   "outputs": [],
   "source": [
    "save_folder = '../Analyses/Figures_Maelys/'"
   ]
  },
  {
   "cell_type": "code",
   "execution_count": 156,
   "id": "55e66c4c-3c33-4ed2-8aec-de75ec87a8fe",
   "metadata": {
    "tags": []
   },
   "outputs": [],
   "source": [
    "participants = []\n",
    "for i in range(1 ,N + 1):\n",
    "    if i < 10:\n",
    "        participants.append(f'P0{i}')\n",
    "    else:\n",
    "        participants.append(f'P{i}')"
   ]
  },
  {
   "cell_type": "code",
   "execution_count": 157,
   "id": "303699ec-513f-4a38-a4cd-11442c8b42ca",
   "metadata": {
    "tags": []
   },
   "outputs": [],
   "source": [
    "label_metric = 'RMSSD'\n",
    "label_condition = 'Stimulation'"
   ]
  },
  {
   "cell_type": "code",
   "execution_count": 158,
   "id": "fea41816-6512-48b9-8223-077e99b4aaae",
   "metadata": {
    "tags": []
   },
   "outputs": [],
   "source": [
    "conditions = ['Baseline','Odor','Music']"
   ]
  },
  {
   "cell_type": "code",
   "execution_count": 159,
   "id": "c01d7a96-b5cc-4b20-bb97-ae02c903a5a3",
   "metadata": {
    "tags": []
   },
   "outputs": [],
   "source": [
    "mu = {'Baseline':valeur_baseline, 'Odor':valeur_odor,'Music':valeur_music}\n",
    "sd = {'Baseline':sd_estimée_baseline, 'Odor':sd_estimée_odor,'Music':sd_estimée_music}"
   ]
  },
  {
   "cell_type": "code",
   "execution_count": 160,
   "id": "af80eabc-e715-49c0-947c-4ebc97be236c",
   "metadata": {
    "tags": []
   },
   "outputs": [],
   "source": [
    "concat = []\n",
    "for condition in conditions:\n",
    "    data = np.random.randn(N) * sd[condition] + mu[condition]\n",
    "    df_stim = pd.DataFrame(columns = ['subject',label_condition,label_metric])\n",
    "    df_stim[label_metric] = data\n",
    "    df_stim[label_condition] = condition\n",
    "    df_stim['subject'] = participants\n",
    "    concat.append(df_stim)\n",
    "df = pd.concat(concat)"
   ]
  },
  {
   "cell_type": "code",
   "execution_count": 161,
   "id": "efc9cedd-e482-496a-a568-d3fe6a1abecd",
   "metadata": {
    "tags": []
   },
   "outputs": [
    {
     "data": {
      "text/html": [
       "<div>\n",
       "<style scoped>\n",
       "    .dataframe tbody tr th:only-of-type {\n",
       "        vertical-align: middle;\n",
       "    }\n",
       "\n",
       "    .dataframe tbody tr th {\n",
       "        vertical-align: top;\n",
       "    }\n",
       "\n",
       "    .dataframe thead th {\n",
       "        text-align: right;\n",
       "    }\n",
       "</style>\n",
       "<table border=\"1\" class=\"dataframe\">\n",
       "  <thead>\n",
       "    <tr style=\"text-align: right;\">\n",
       "      <th></th>\n",
       "      <th>subject</th>\n",
       "      <th>Stimulation</th>\n",
       "      <th>RMSSD</th>\n",
       "    </tr>\n",
       "  </thead>\n",
       "  <tbody>\n",
       "    <tr>\n",
       "      <th>0</th>\n",
       "      <td>P01</td>\n",
       "      <td>Baseline</td>\n",
       "      <td>65.554860</td>\n",
       "    </tr>\n",
       "    <tr>\n",
       "      <th>1</th>\n",
       "      <td>P02</td>\n",
       "      <td>Baseline</td>\n",
       "      <td>64.931639</td>\n",
       "    </tr>\n",
       "    <tr>\n",
       "      <th>2</th>\n",
       "      <td>P03</td>\n",
       "      <td>Baseline</td>\n",
       "      <td>66.982410</td>\n",
       "    </tr>\n",
       "    <tr>\n",
       "      <th>3</th>\n",
       "      <td>P04</td>\n",
       "      <td>Baseline</td>\n",
       "      <td>62.189872</td>\n",
       "    </tr>\n",
       "    <tr>\n",
       "      <th>4</th>\n",
       "      <td>P05</td>\n",
       "      <td>Baseline</td>\n",
       "      <td>57.135991</td>\n",
       "    </tr>\n",
       "    <tr>\n",
       "      <th>5</th>\n",
       "      <td>P06</td>\n",
       "      <td>Baseline</td>\n",
       "      <td>50.325741</td>\n",
       "    </tr>\n",
       "    <tr>\n",
       "      <th>6</th>\n",
       "      <td>P07</td>\n",
       "      <td>Baseline</td>\n",
       "      <td>66.176748</td>\n",
       "    </tr>\n",
       "    <tr>\n",
       "      <th>7</th>\n",
       "      <td>P08</td>\n",
       "      <td>Baseline</td>\n",
       "      <td>61.393709</td>\n",
       "    </tr>\n",
       "    <tr>\n",
       "      <th>8</th>\n",
       "      <td>P09</td>\n",
       "      <td>Baseline</td>\n",
       "      <td>65.246230</td>\n",
       "    </tr>\n",
       "    <tr>\n",
       "      <th>9</th>\n",
       "      <td>P10</td>\n",
       "      <td>Baseline</td>\n",
       "      <td>61.457021</td>\n",
       "    </tr>\n",
       "    <tr>\n",
       "      <th>0</th>\n",
       "      <td>P01</td>\n",
       "      <td>Odor</td>\n",
       "      <td>89.919640</td>\n",
       "    </tr>\n",
       "    <tr>\n",
       "      <th>1</th>\n",
       "      <td>P02</td>\n",
       "      <td>Odor</td>\n",
       "      <td>80.274287</td>\n",
       "    </tr>\n",
       "    <tr>\n",
       "      <th>2</th>\n",
       "      <td>P03</td>\n",
       "      <td>Odor</td>\n",
       "      <td>80.084610</td>\n",
       "    </tr>\n",
       "    <tr>\n",
       "      <th>3</th>\n",
       "      <td>P04</td>\n",
       "      <td>Odor</td>\n",
       "      <td>61.425949</td>\n",
       "    </tr>\n",
       "    <tr>\n",
       "      <th>4</th>\n",
       "      <td>P05</td>\n",
       "      <td>Odor</td>\n",
       "      <td>95.744673</td>\n",
       "    </tr>\n",
       "    <tr>\n",
       "      <th>5</th>\n",
       "      <td>P06</td>\n",
       "      <td>Odor</td>\n",
       "      <td>81.059024</td>\n",
       "    </tr>\n",
       "    <tr>\n",
       "      <th>6</th>\n",
       "      <td>P07</td>\n",
       "      <td>Odor</td>\n",
       "      <td>75.079536</td>\n",
       "    </tr>\n",
       "    <tr>\n",
       "      <th>7</th>\n",
       "      <td>P08</td>\n",
       "      <td>Odor</td>\n",
       "      <td>89.486226</td>\n",
       "    </tr>\n",
       "    <tr>\n",
       "      <th>8</th>\n",
       "      <td>P09</td>\n",
       "      <td>Odor</td>\n",
       "      <td>74.346834</td>\n",
       "    </tr>\n",
       "    <tr>\n",
       "      <th>9</th>\n",
       "      <td>P10</td>\n",
       "      <td>Odor</td>\n",
       "      <td>68.060228</td>\n",
       "    </tr>\n",
       "    <tr>\n",
       "      <th>0</th>\n",
       "      <td>P01</td>\n",
       "      <td>Music</td>\n",
       "      <td>67.388885</td>\n",
       "    </tr>\n",
       "    <tr>\n",
       "      <th>1</th>\n",
       "      <td>P02</td>\n",
       "      <td>Music</td>\n",
       "      <td>70.622930</td>\n",
       "    </tr>\n",
       "    <tr>\n",
       "      <th>2</th>\n",
       "      <td>P03</td>\n",
       "      <td>Music</td>\n",
       "      <td>72.939045</td>\n",
       "    </tr>\n",
       "    <tr>\n",
       "      <th>3</th>\n",
       "      <td>P04</td>\n",
       "      <td>Music</td>\n",
       "      <td>67.306588</td>\n",
       "    </tr>\n",
       "    <tr>\n",
       "      <th>4</th>\n",
       "      <td>P05</td>\n",
       "      <td>Music</td>\n",
       "      <td>80.484572</td>\n",
       "    </tr>\n",
       "    <tr>\n",
       "      <th>5</th>\n",
       "      <td>P06</td>\n",
       "      <td>Music</td>\n",
       "      <td>69.345761</td>\n",
       "    </tr>\n",
       "    <tr>\n",
       "      <th>6</th>\n",
       "      <td>P07</td>\n",
       "      <td>Music</td>\n",
       "      <td>72.417836</td>\n",
       "    </tr>\n",
       "    <tr>\n",
       "      <th>7</th>\n",
       "      <td>P08</td>\n",
       "      <td>Music</td>\n",
       "      <td>89.537870</td>\n",
       "    </tr>\n",
       "    <tr>\n",
       "      <th>8</th>\n",
       "      <td>P09</td>\n",
       "      <td>Music</td>\n",
       "      <td>71.302428</td>\n",
       "    </tr>\n",
       "    <tr>\n",
       "      <th>9</th>\n",
       "      <td>P10</td>\n",
       "      <td>Music</td>\n",
       "      <td>75.444243</td>\n",
       "    </tr>\n",
       "  </tbody>\n",
       "</table>\n",
       "</div>"
      ],
      "text/plain": [
       "  subject Stimulation      RMSSD\n",
       "0     P01    Baseline  65.554860\n",
       "1     P02    Baseline  64.931639\n",
       "2     P03    Baseline  66.982410\n",
       "3     P04    Baseline  62.189872\n",
       "4     P05    Baseline  57.135991\n",
       "5     P06    Baseline  50.325741\n",
       "6     P07    Baseline  66.176748\n",
       "7     P08    Baseline  61.393709\n",
       "8     P09    Baseline  65.246230\n",
       "9     P10    Baseline  61.457021\n",
       "0     P01        Odor  89.919640\n",
       "1     P02        Odor  80.274287\n",
       "2     P03        Odor  80.084610\n",
       "3     P04        Odor  61.425949\n",
       "4     P05        Odor  95.744673\n",
       "5     P06        Odor  81.059024\n",
       "6     P07        Odor  75.079536\n",
       "7     P08        Odor  89.486226\n",
       "8     P09        Odor  74.346834\n",
       "9     P10        Odor  68.060228\n",
       "0     P01       Music  67.388885\n",
       "1     P02       Music  70.622930\n",
       "2     P03       Music  72.939045\n",
       "3     P04       Music  67.306588\n",
       "4     P05       Music  80.484572\n",
       "5     P06       Music  69.345761\n",
       "6     P07       Music  72.417836\n",
       "7     P08       Music  89.537870\n",
       "8     P09       Music  71.302428\n",
       "9     P10       Music  75.444243"
      ]
     },
     "execution_count": 161,
     "metadata": {},
     "output_type": "execute_result"
    }
   ],
   "source": [
    "df"
   ]
  },
  {
   "cell_type": "code",
   "execution_count": 162,
   "id": "0188bb53-b6e5-477a-81eb-0c3332882b74",
   "metadata": {
    "tags": []
   },
   "outputs": [
    {
     "name": "stderr",
     "output_type": "stream",
     "text": [
      "/mnt/autofs/cmo/users/ValentinGhibaudo/ghibtools/ghibtools/stats.py:383: FutureWarning: The default value of numeric_only in DataFrameGroupBy.mean is deprecated. In a future version, numeric_only will default to False. Either specify numeric_only or select only columns which should be valid for the function.\n",
      "  estimators = pd.concat([df.groupby(predictor).mean()[outcome].reset_index(), df.groupby(predictor).std()[outcome].reset_index()[outcome].rename('sd')], axis = 1).round(2).set_index(predictor)\n",
      "/mnt/autofs/cmo/users/ValentinGhibaudo/ghibtools/ghibtools/stats.py:383: FutureWarning: The default value of numeric_only in DataFrameGroupBy.std is deprecated. In a future version, numeric_only will default to False. Either specify numeric_only or select only columns which should be valid for the function.\n",
      "  estimators = pd.concat([df.groupby(predictor).mean()[outcome].reset_index(), df.groupby(predictor).std()[outcome].reset_index()[outcome].rename('sd')], axis = 1).round(2).set_index(predictor)\n"
     ]
    },
    {
     "data": {
      "text/plain": [
       "Text(47.097222222222214, 0.5, 'RMSSD')"
      ]
     },
     "execution_count": 162,
     "metadata": {},
     "output_type": "execute_result"
    },
    {
     "data": {
      "image/png": "[encoded data removed]",
      "text/plain": [
       "<Figure size 640x480 with 1 Axes>"
      ]
     },
     "metadata": {},
     "output_type": "display_data"
    }
   ],
   "source": [
    "fig, ax = plt.subplots()\n",
    "gh.auto_stats(df=df, predictor = label_condition, outcome = label_metric, design = 'within', subject = 'subject', ax=ax)\n",
    "ax.set_ylabel(label_metric)\n",
    "# fig.savefig(save_folder + 'conductance_cutanee2', bbox_inches = 'tight')"
   ]
  },
  {
   "cell_type": "code",
   "execution_count": null,
   "id": "e418ff9f-c28c-47aa-8570-c24426709c27",
   "metadata": {},
   "outputs": [],
   "source": []
  },
  {
   "cell_type": "code",
   "execution_count": null,
   "id": "b22c0e26-fe7a-461e-bf95-af49964ae499",
   "metadata": {},
   "outputs": [],
   "source": []
  },
  {
   "cell_type": "code",
   "execution_count": null,
   "id": "7224d499-aa90-49bc-b1ff-fdf3f1803e35",
   "metadata": {},
   "outputs": [],
   "source": []
  },
  {
   "cell_type": "code",
   "execution_count": null,
   "id": "f49d6389-fda8-40e5-856a-55fee85b0f70",
   "metadata": {},
   "outputs": [],
   "source": []
  }
 ],
 "metadata": {
  "kernelspec": {
   "display_name": "Python 3 (ipykernel)",
   "language": "python",
   "name": "python3"
  },
  "language_info": {
   "codemirror_mode": {
    "name": "ipython",
    "version": 3
   },
   "file_extension": ".py",
   "mimetype": "text/x-python",
   "name": "python",
   "nbconvert_exporter": "python",
   "pygments_lexer": "ipython3",
   "version": "3.10.6"
  }
 },
 "nbformat": 4,
 "nbformat_minor": 5
}
